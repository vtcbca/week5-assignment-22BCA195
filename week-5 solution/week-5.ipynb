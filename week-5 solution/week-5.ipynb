{
 "cells": [
  {
   "cell_type": "code",
   "execution_count": 28,
   "id": "4cc28520",
   "metadata": {},
   "outputs": [],
   "source": [
    "import csv"
   ]
  },
  {
   "cell_type": "code",
   "execution_count": 29,
   "id": "8c905068",
   "metadata": {},
   "outputs": [],
   "source": [
    "a=['sid','sname','city','contact']"
   ]
  },
  {
   "cell_type": "code",
   "execution_count": 30,
   "id": "ad0af651",
   "metadata": {},
   "outputs": [],
   "source": [
    "records=[[1,'om','bardoli',8758395761],\n",
    "         [2,'sai','navsari',9909251889],\n",
    "         [3,'ram','suarat',8141181876],\n",
    "         [4,'radha','bharuch',9909283010],\n",
    "         [5,'krishna','baroda',9930452161]]\n",
    "p=[]"
   ]
  },
  {
   "cell_type": "code",
   "execution_count": 31,
   "id": "98b10a74",
   "metadata": {},
   "outputs": [
    {
     "name": "stdout",
     "output_type": "stream",
     "text": [
      "enter student id:6\n",
      "enter student name:gopal\n",
      "enter student city:surat\n",
      "enter student contact number:8890875681\n",
      "enter student id:7\n",
      "enter student name:shiv\n",
      "enter student city:vyara\n",
      "enter student contact number:8758496561\n",
      "enter student id:8\n",
      "enter student name:dev\n",
      "enter student city:kamrej\n",
      "enter student contact number:9978799180\n",
      "enter student id:9\n",
      "enter student name:harish\n",
      "enter student city:navsari\n",
      "enter student contact number:9909109202\n",
      "enter student id:10\n",
      "enter student name:vishal\n",
      "enter student city:ahemdabad\n",
      "enter student contact number:8778656751\n"
     ]
    }
   ],
   "source": [
    "for i in range(5):\n",
    "    sid=int(input(\"enter student id:\"))\n",
    "    sname=input(\"enter student name:\")\n",
    "    city=input(\"enter student city:\")\n",
    "    contact=int(input(\"enter student contact number:\"))\n",
    "    l=[sid,sname,city,contact]\n",
    "    p.append(l)\n",
    "    "
   ]
  },
  {
   "cell_type": "code",
   "execution_count": 33,
   "id": "e3651d42",
   "metadata": {},
   "outputs": [],
   "source": [
    "with open('C:\\sqlite3\\student.csv','w',newline='') as f:\n",
    "    file=csv.writer(f)\n",
    "    file.writerow(a)\n",
    "    file.writerows(records)\n",
    "    file.writerows(p)"
   ]
  },
  {
   "cell_type": "code",
   "execution_count": 35,
   "id": "a0e73622",
   "metadata": {},
   "outputs": [
    {
     "name": "stdout",
     "output_type": "stream",
     "text": [
      "['sid', 'sname', 'city', 'contact']\n",
      "['1', 'om', 'bardoli', '8758395761']\n",
      "['2', 'sai', 'navsari', '9909251889']\n",
      "['3', 'ram', 'suarat', '8141181876']\n",
      "['4', 'radha', 'bharuch', '9909283010']\n",
      "['5', 'krishna', 'baroda', '9930452161']\n",
      "['6', 'gopal', 'surat', '8890875681']\n",
      "['7', 'shiv', 'vyara', '8758496561']\n",
      "['8', 'dev', 'kamrej', '9978799180']\n",
      "['9', 'harish', 'navsari', '9909109202']\n",
      "['10', 'vishal', 'ahemdabad', '8778656751']\n"
     ]
    }
   ],
   "source": [
    "with open('C:\\sqlite3\\student.csv','r',newline='') as read:\n",
    "    all_record=csv.reader(read)\n",
    "    for records in all_record:\n",
    "        print(records)"
   ]
  },
  {
   "cell_type": "code",
   "execution_count": null,
   "id": "1d40eb8d",
   "metadata": {},
   "outputs": [],
   "source": []
  }
 ],
 "metadata": {
  "kernelspec": {
   "display_name": "Python 3 (ipykernel)",
   "language": "python",
   "name": "python3"
  },
  "language_info": {
   "codemirror_mode": {
    "name": "ipython",
    "version": 3
   },
   "file_extension": ".py",
   "mimetype": "text/x-python",
   "name": "python",
   "nbconvert_exporter": "python",
   "pygments_lexer": "ipython3",
   "version": "3.10.10"
  }
 },
 "nbformat": 4,
 "nbformat_minor": 5
}
